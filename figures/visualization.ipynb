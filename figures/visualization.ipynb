{
 "cells": [
  {
   "cell_type": "code",
   "execution_count": null,
   "outputs": [],
   "source": [
    "from pathlib import Path\n",
    "\n",
    "import matplotlib.pyplot as plt\n",
    "import numpy as np\n",
    "import SimpleITK as sitk\n",
    "from mpl_toolkits.axes_grid1 import ImageGrid\n",
    "from skimage.measure import find_contours\n",
    "from skimage.transform import resize"
   ],
   "metadata": {
    "collapsed": false,
    "pycharm": {
     "name": "#%%\n"
    },
    "ExecuteTime": {
     "end_time": "2024-06-26T14:21:39.582193700Z",
     "start_time": "2024-06-26T14:21:36.546966300Z"
    }
   }
  },
  {
   "cell_type": "code",
   "execution_count": null,
   "outputs": [],
   "source": [
    "plt.style.use(\"dark_background\")"
   ],
   "metadata": {
    "collapsed": false,
    "pycharm": {
     "name": "#%%\n"
    }
   }
  },
  {
   "cell_type": "code",
   "execution_count": null,
   "outputs": [],
   "source": [
    "pre = 'preRT'\n",
    "mid = 'midRT'\n",
    "\n",
    "path = r\"data\\HNTSMRG24_train\"\n",
    "patient_number = 95\n",
    "task = 1\n",
    "columns = 5\n",
    "colormap = 'gray'\n",
    "\n",
    "label1_color = 'chartreuse'\n",
    "label2_color = 'deeppink'\n",
    "label1 = 'GTVp'\n",
    "label2 = 'GTVn'\n",
    "\n",
    "label_colors = [label1_color, label2_color]\n",
    "labels = [label1, label2]"
   ],
   "metadata": {
    "collapsed": false,
    "pycharm": {
     "name": "#%%\n"
    }
   }
  },
  {
   "cell_type": "code",
   "execution_count": null,
   "outputs": [],
   "source": [
    "def get_contours(mask, label):\n",
    "    \"\"\"Obtain contours of given label (value) for input mask\"\"\"\n",
    "\n",
    "    contours = find_contours(mask == label)\n",
    "    return contours\n",
    "\n",
    "\n",
    "def draw_contours(ax, mask, label_num, label_color, label_name):\n",
    "    \"\"\"Draw contours of given mask with given label number\"\"\"\n",
    "\n",
    "    contours = get_contours(mask, label=label_num)\n",
    "    for contour in contours:\n",
    "        ax.plot(contour[:, 1], contour[:, 0], color=label_color, label=label_name)\n",
    "\n",
    "\n",
    "def create_fixed_legend(ax, labels, label_colors):\n",
    "    \"\"\"Create a fixed legend for given labels, to draw a legend in an image even though the lines are absent\"\"\"\n",
    "\n",
    "    dummy_lines = [ax.plot([], [], label=label, color=label_color)[0] for label, label_color in\n",
    "                   zip(labels, label_colors)]\n",
    "    ax.legend(handles=dummy_lines, frameon=False, bbox_to_anchor=(1.05, 1.23), ncol=2)\n",
    "\n",
    "\n",
    "def display_segmented_image(images, masks, size=2, columns=6, cmap='bone', patient_number=None, task=None,\n",
    "                            label1_color='chartreuse',\n",
    "                            label2_color='deeppink', label1='GTVp', label2='GTVn'):\n",
    "    \"\"\"Display the segmented MRI image\"\"\"\n",
    "\n",
    "    rows = (len(images) - 1) // columns + 1\n",
    "\n",
    "    fig = plt.figure(figsize=(columns * size, rows * size))\n",
    "    ax = ImageGrid(fig, 111, nrows_ncols=(rows, columns), axes_pad=0.05)\n",
    "    for i in range(len(images), len(ax)):\n",
    "        ax[i].axis('off')\n",
    "\n",
    "    create_fixed_legend(ax[columns - 1], [label1, label2], [label1_color, label2_color])\n",
    "    for i in range(len(images)):\n",
    "        ax[i].imshow(images[i], cmap=cmap)\n",
    "        ax[i].set_xticks([])\n",
    "        ax[i].set_yticks([])\n",
    "        ax[i].text(20, 50, f'{i:02d}')\n",
    "\n",
    "        draw_contours(ax[i], masks[i], label_num=1, label_color=label1_color, label_name=label1)\n",
    "        draw_contours(ax[i], masks[i], label_num=2, label_color=label2_color, label_name=label2)\n",
    "\n",
    "    patient = f'Patient No. {patient_number}' if patient_number else ''\n",
    "    if task == 1:\n",
    "        task_title = 'pre-Radiotherapy Treatment'\n",
    "    elif task == 2:\n",
    "        task_title = 'mid-Radiotherapy Treatment'\n",
    "    else:\n",
    "        task_title = None\n",
    "\n",
    "    plt.suptitle(f'{patient} - {task_title}', y=.91)\n",
    "    plt.show()\n",
    "\n",
    "\n",
    "def get_array(nii_path):\n",
    "    \"\"\"Obtain numpy array data from .nii.gz file\"\"\"\n",
    "\n",
    "    nifti = sitk.ReadImage(nii_path)\n",
    "    array = sitk.GetArrayFromImage(nifti)\n",
    "    return array\n",
    "\n",
    "\n",
    "def get_image_and_mask(path, observation, task):\n",
    "    \"\"\"Obtain the 3D image and the corresponding mask\"\"\"\n",
    "\n",
    "    task_name = pre if task == 1 else mid\n",
    "    obs_path = path / observation / task_name\n",
    "    if task_name == pre:\n",
    "        image_path = str(list(obs_path.glob(\"*T2*\"))[0])\n",
    "        mask_path = str(list(obs_path.glob(\"*mask*\"))[0])\n",
    "    if task_name == mid:\n",
    "        image_path = str(list(obs_path.glob(\"*midRT_T2*\"))[0])\n",
    "        mask_path = str(list(obs_path.glob(\"*midRT_mask*\"))[0])\n",
    "    print(image_path)\n",
    "    print(mask_path)\n",
    "    img = get_array(image_path)\n",
    "    mask = get_array(mask_path)\n",
    "\n",
    "    return img, mask\n",
    "\n",
    "\n",
    "def get_path_and_patients(path):\n",
    "    \"\"\"Obtain path for data, with all patient (numbers) from the data directory\"\"\"\n",
    "\n",
    "    absolute_path = Path().absolute().parent\n",
    "    data_path = absolute_path / path\n",
    "    patients = [obs.name for obs in data_path.iterdir()]\n",
    "    return data_path, patients\n",
    "\n",
    "\n",
    "def get_contours(mask, label):\n",
    "    \"\"\"Obtain contours of given label (value) for input mask\"\"\"\n",
    "\n",
    "    contours = find_contours(mask == label)\n",
    "    return contours\n",
    "\n",
    "\n",
    "def draw_contours(ax, mask, label_num, label_color, label_name):\n",
    "    \"\"\"Draw contours of given mask with given label number\"\"\"\n",
    "\n",
    "    contours = get_contours(mask, label=label_num)\n",
    "    for contour in contours:\n",
    "        ax.plot(contour[:, 1], contour[:, 0], color=label_color, label=label_name)\n",
    "\n",
    "\n",
    "def create_fixed_legend(ax, labels, label_colors):\n",
    "    \"\"\"Create a fixed legend for given labels, to draw a legend in an image even though the lines are absent\"\"\"\n",
    "\n",
    "    dummy_lines = [ax.plot([], [], label=label, color=label_color)[0] for label, label_color in\n",
    "                   zip(labels, label_colors)]\n",
    "    ax.legend(handles=dummy_lines, frameon=False, bbox_to_anchor=(1.05, 1.23), ncol=2)\n",
    "\n",
    "\n",
    "\n"
   ],
   "metadata": {
    "collapsed": false,
    "pycharm": {
     "name": "#%%\n"
    }
   }
  },
  {
   "cell_type": "code",
   "execution_count": null,
   "outputs": [],
   "source": [
    "path, patients = get_path_and_patients(path)\n",
    "patient = patients[patient_number]\n",
    "img, mask = get_image_and_mask(path, patient, task)"
   ],
   "metadata": {
    "collapsed": false,
    "pycharm": {
     "name": "#%%\n"
    },
    "ExecuteTime": {
     "end_time": "2024-06-26T14:21:40.175802200Z",
     "start_time": "2024-06-26T14:21:39.597080100Z"
    }
   }
  },
  {
   "cell_type": "markdown",
   "source": [],
   "metadata": {
    "collapsed": false,
    "pycharm": {
     "name": "#%% md\n"
    }
   }
  },
  {
   "cell_type": "code",
   "execution_count": null,
   "outputs": [],
   "source": [
    "display_segmented_image(img, mask, columns=columns, cmap=colormap, task=task, patient_number=patient)"
   ],
   "metadata": {
    "collapsed": false,
    "pycharm": {
     "name": "#%%\n"
    },
    "ExecuteTime": {
     "end_time": "2024-06-26T14:39:01.831339100Z",
     "start_time": "2024-06-26T14:38:53.772049100Z"
    }
   }
  },
  {
   "cell_type": "code",
   "execution_count": null,
   "outputs": [],
   "source": [
    "def display_slice(img, orientation, slice, labels, label_colors, cmap='gray', mask=None, figsize=(8, 8)):\n",
    "    orientations = ['axial', 'coronal', 'saggital']\n",
    "    assert orientation in orientations\n",
    "\n",
    "    if orientation == orientations[0]:\n",
    "        img = img[slice, :, :]\n",
    "        if mask is not None:\n",
    "            mask = mask[slice, :, :]\n",
    "    elif orientation == orientations[1]:\n",
    "        img = img[:, slice, :]\n",
    "        img = np.flip(resize(img, (65 * 4, 512)), axis=0)\n",
    "        if mask is not None:\n",
    "            mask = mask[:, slice, :]\n",
    "    else:\n",
    "        img = img[:, :, slice]\n",
    "        img = np.flip(resize(img, (65 * 4, 512)), axis=0)\n",
    "        if mask is not None:\n",
    "            mask = mask[:, :, slice]\n",
    "\n",
    "    fig = plt.figure(frameon=False, figsize=figsize)\n",
    "    ax = plt.Axes(fig, [0., 0., 1., 1.])\n",
    "    ax.set_axis_off()\n",
    "    fig.add_axes(ax)\n",
    "    ax.axis('off')\n",
    "    ax.imshow(img, cmap=cmap)\n",
    "    ax.set_xticks([])\n",
    "    ax.set_yticks([])\n",
    "\n",
    "    if mask is not None:\n",
    "        draw_contours(ax, mask, label_num=1, label_color=label_colors[0], label_name=labels[0])\n",
    "        draw_contours(ax, mask, label_num=2, label_color=label_colors[1], label_name=labels[1])\n",
    "\n",
    "    masked = '' if mask is not None else '_annotated'\n",
    "    save_path = f'figs/{orientation}{masked}.png'\n",
    "    plt.savefig(save_path, dpi=1200)"
   ],
   "metadata": {
    "collapsed": false,
    "pycharm": {
     "name": "#%%\n"
    }
   }
  },
  {
   "cell_type": "code",
   "execution_count": null,
   "outputs": [],
   "source": [
    "display_slice(img, 'axial', 34, labels, label_colors, mask=mask)"
   ],
   "metadata": {
    "collapsed": false,
    "pycharm": {
     "name": "#%%\n"
    }
   }
  },
  {
   "cell_type": "code",
   "execution_count": null,
   "outputs": [],
   "source": [
    "display_slice(img, 'axial', 34, labels, label_colors)"
   ],
   "metadata": {
    "collapsed": false,
    "pycharm": {
     "name": "#%%\n"
    }
   }
  },
  {
   "cell_type": "code",
   "execution_count": null,
   "outputs": [],
   "source": [
    "display_slice(img, 'saggital', 256, labels, label_colors)"
   ],
   "metadata": {
    "collapsed": false,
    "pycharm": {
     "name": "#%%\n"
    }
   }
  },
  {
   "cell_type": "code",
   "execution_count": null,
   "outputs": [],
   "source": [
    "display_slice(img, 'coronal', 256, labels, label_colors)"
   ],
   "metadata": {
    "collapsed": false,
    "pycharm": {
     "name": "#%%\n"
    }
   }
  }
 ],
 "metadata": {
  "kernelspec": {
   "display_name": "Python 3",
   "language": "python",
   "name": "python3"
  },
  "language_info": {
   "codemirror_mode": {
    "name": "ipython",
    "version": 2
   },
   "file_extension": ".py",
   "mimetype": "text/x-python",
   "name": "python",
   "nbconvert_exporter": "python",
   "pygments_lexer": "ipython2",
   "version": "2.7.6"
  }
 },
 "nbformat": 4,
 "nbformat_minor": 0
}