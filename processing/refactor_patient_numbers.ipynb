{
 "cells": [
  {
   "cell_type": "code",
   "execution_count": null,
   "metadata": {
    "collapsed": true,
    "pycharm": {
     "name": "#%%\n"
    }
   },
   "outputs": [],
   "source": [
    "from pathlib import Path"
   ]
  },
  {
   "cell_type": "code",
   "execution_count": null,
   "outputs": [],
   "source": [
    "def ensure(p):\n",
    "    \"\"\"Ensure that destination folder exists\"\"\"\n",
    "    p.parent.mkdir(parents=True, exist_ok=True)\n",
    "    return p\n",
    "\n",
    "\n",
    "def rename(src, dst):\n",
    "    \"\"\"Rename folder\"\"\"\n",
    "    Path(src).rename(ensure(Path(dst)))\n",
    "\n",
    "\n",
    "def create_dst_list(src_paths):\n",
    "    \"\"\"Create destination paths using 3 digits for each patient\"\"\"\n",
    "\n",
    "    dst_paths = []\n",
    "    for src in src_paths:\n",
    "        dir_path, patient_number = src.rsplit('\\\\', 1)\n",
    "        patient_number_new = f'{int(patient_number):03d}'\n",
    "        dst_paths.append(f'{dir_path}\\\\{patient_number_new}')\n",
    "    return dst_paths\n",
    "\n",
    "\n",
    "def rename_paths(path):\n",
    "    \"\"\"Rename all folders in path to have 3 digits for each patient\"\"\"\n",
    "\n",
    "    src_paths = [str(s) for s in path.iterdir()]\n",
    "    dst_paths = create_dst_list(src_paths)\n",
    "    for src, dst in zip(src_paths, dst_paths):\n",
    "        if src != dst:\n",
    "            rename(src, dst)"
   ],
   "metadata": {
    "collapsed": false,
    "pycharm": {
     "name": "#%%\n"
    }
   }
  },
  {
   "cell_type": "code",
   "execution_count": null,
   "outputs": [],
   "source": [
    "absolute_path = Path().absolute().parent\n",
    "path = absolute_path / 'data/HNTSMRG24_train'"
   ],
   "metadata": {
    "collapsed": false,
    "pycharm": {
     "name": "#%%\n"
    }
   }
  }
 ],
 "metadata": {
  "kernelspec": {
   "display_name": "Python 3",
   "language": "python",
   "name": "python3"
  },
  "language_info": {
   "codemirror_mode": {
    "name": "ipython",
    "version": 2
   },
   "file_extension": ".py",
   "mimetype": "text/x-python",
   "name": "python",
   "nbconvert_exporter": "python",
   "pygments_lexer": "ipython2",
   "version": "2.7.6"
  }
 },
 "nbformat": 4,
 "nbformat_minor": 0
}