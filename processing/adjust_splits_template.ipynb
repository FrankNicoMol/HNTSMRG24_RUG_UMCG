{
 "cells": [
  {
   "cell_type": "code",
   "execution_count": 1,
   "metadata": {
    "collapsed": true,
    "pycharm": {
     "name": "#%%\n"
    }
   },
   "outputs": [],
   "source": [
    "import json\n",
    "\n",
    "path = \"orig/splits_final.json\"\n",
    "nsplits = 15\n",
    "\n",
    "with open(path) as f:\n",
    "    splits_final = json.load(f)\n",
    "\n",
    "folds = [f['train'] + f['val'] for f in splits_final]\n",
    "\n",
    "f0 = folds[0]\n",
    "nsamples = len(f0)\n",
    "split_size = int(nsamples / nsplits)\n",
    "splits = [f0[i * split_size: (i + 1) * split_size] for i in range(nsplits)]\n",
    "\n",
    "new_splits = []\n",
    "for i in range(nsplits):\n",
    "    val = splits[i]\n",
    "    train = [sample\n",
    "             for j, split in enumerate(splits)\n",
    "             if j != i\n",
    "             for sample in split]\n",
    "    split_dict = {'train': train,\n",
    "                  'val': val}\n",
    "    new_splits.append(split_dict)\n",
    "\n",
    "with open('new/splits_final.json', 'w') as json_file:\n",
    "    json.dump(new_splits, json_file, indent=4)"
   ]
  }
 ],
 "metadata": {
  "kernelspec": {
   "display_name": "Python 3",
   "language": "python",
   "name": "python3"
  },
  "language_info": {
   "codemirror_mode": {
    "name": "ipython",
    "version": 2
   },
   "file_extension": ".py",
   "mimetype": "text/x-python",
   "name": "python",
   "nbconvert_exporter": "python",
   "pygments_lexer": "ipython2",
   "version": "2.7.6"
  }
 },
 "nbformat": 4,
 "nbformat_minor": 0
}