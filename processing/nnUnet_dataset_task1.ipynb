{
 "cells": [
  {
   "cell_type": "code",
   "execution_count": null,
   "metadata": {
    "collapsed": true,
    "pycharm": {
     "name": "#%%\n"
    }
   },
   "outputs": [],
   "source": [
    "from pathlib import Path\n",
    "import shutil\n",
    "import os\n",
    "import pandas as pd\n",
    "import json"
   ]
  },
  {
   "cell_type": "code",
   "execution_count": null,
   "outputs": [],
   "source": [
    "data_dir = 'data/HNTSMRG24_train'\n",
    "proj_dir = Path('').absolute().parent.parent\n",
    "src_dir = proj_dir / data_dir\n",
    "\n",
    "dst_dir = 'Dataset003_HNTSMRG'\n",
    "\n",
    "os.makedirs(dst_dir, exist_ok=True)\n",
    "\n",
    "dst_dir_samples = f'{dst_dir}/imagesTr/'\n",
    "os.makedirs(dst_dir_samples, exist_ok=True)\n",
    "\n",
    "dst_dir_masks = f'{dst_dir}/labelsTr/'\n",
    "os.makedirs(dst_dir_masks, exist_ok=True)"
   ],
   "metadata": {
    "collapsed": false,
    "pycharm": {
     "name": "#%%\n"
    }
   }
  },
  {
   "cell_type": "code",
   "execution_count": null,
   "outputs": [],
   "source": [
    "src_dir"
   ],
   "metadata": {
    "collapsed": false,
    "pycharm": {
     "name": "#%%\n"
    }
   }
  },
  {
   "cell_type": "code",
   "execution_count": null,
   "outputs": [],
   "source": [
    "sets_raw = {}"
   ],
   "metadata": {
    "collapsed": false,
    "pycharm": {
     "name": "#%%\n"
    }
   }
  },
  {
   "cell_type": "code",
   "execution_count": null,
   "outputs": [],
   "source": [
    "pre_samples = [str(p) for p in src_dir.glob('*\\preRT\\*T2*')]\n",
    "pre_masks = [str(p) for p in src_dir.glob('*\\preRT\\*mask*')]\n",
    "sets_raw['preRT'] = {'samples': pre_samples,\n",
    "                     'masks': pre_masks}\n",
    "\n",
    "mid_samples = [str(p) for p in src_dir.glob('*\\midRT\\*midRT*T2.nii*')]\n",
    "mid_masks = [str(p) for p in src_dir.glob('*\\midRT\\*midRT*mask.nii*')]\n",
    "sets_raw['midRT'] = {'samples': mid_samples,\n",
    "                     'masks': mid_masks}"
   ],
   "metadata": {
    "collapsed": false,
    "pycharm": {
     "name": "#%%\n"
    }
   }
  },
  {
   "cell_type": "code",
   "execution_count": null,
   "outputs": [],
   "source": [
    "dataset = sets_raw['preRT']\n",
    "for i, (sample, mask) in enumerate(zip(dataset['samples'], dataset['masks'])):\n",
    "    dst_sample = f'{dst_dir_samples}/HNTSMRG_{i:03d}_0000.nii.gz'\n",
    "    dst_mask = f'{dst_dir_masks}/HNTSMRG_{i:03d}.nii.gz'\n",
    "\n",
    "    shutil.copyfile(sample, dst_sample)\n",
    "    shutil.copyfile(mask, dst_mask)"
   ],
   "metadata": {
    "collapsed": false,
    "pycharm": {
     "name": "#%%\n"
    }
   }
  },
  {
   "cell_type": "code",
   "execution_count": null,
   "outputs": [],
   "source": [
    "n = len(dataset['samples'])\n",
    "dataset = sets_raw['midRT']\n",
    "for i, (sample, mask) in enumerate(zip(dataset['samples'], dataset['masks'])):\n",
    "    dst_sample = f'{dst_dir_samples}/HNTSMRG_{i+n:03d}_0000.nii.gz'\n",
    "    dst_mask = f'{dst_dir_masks}/HNTSMRG_{i+n:03d}.nii.gz'\n",
    "\n",
    "    shutil.copyfile(sample, dst_sample)\n",
    "    shutil.copyfile(mask, dst_mask)"
   ],
   "metadata": {
    "collapsed": false,
    "pycharm": {
     "name": "#%%\n"
    }
   }
  },
  {
   "cell_type": "code",
   "execution_count": null,
   "outputs": [],
   "source": [
    "dataset_p = sets_raw['preRT']\n",
    "dataset_m = sets_raw['midRT']\n",
    "\n",
    "data = []\n",
    "for i, (sample_p, mask_p, sample_m, mask_m) in enumerate(zip(dataset_p['samples'], dataset_p['masks'], dataset_m['samples'], dataset_m['masks'])):\n",
    "    obs = [sample_p.rsplit('\\\\')[-1].split('.')[0],\n",
    "           mask_p.rsplit('\\\\')[-1].split('.')[0],\n",
    "           sample_m.rsplit('\\\\')[-1].split('.')[0],\n",
    "           mask_m.rsplit('\\\\')[-1].split('.')[0]]\n",
    "    data.append(obs)"
   ],
   "metadata": {
    "collapsed": false,
    "pycharm": {
     "name": "#%%\n"
    }
   }
  },
  {
   "cell_type": "code",
   "execution_count": null,
   "outputs": [],
   "source": [
    "n += len(dataset['samples'])"
   ],
   "metadata": {
    "collapsed": false,
    "pycharm": {
     "name": "#%%\n"
    }
   }
  },
  {
   "cell_type": "code",
   "execution_count": null,
   "outputs": [],
   "source": [
    "df = pd.DataFrame(data)"
   ],
   "metadata": {
    "collapsed": false,
    "pycharm": {
     "name": "#%%\n"
    }
   }
  },
  {
   "cell_type": "code",
   "execution_count": null,
   "outputs": [],
   "source": [
    "data_dict = {\"channel_names\": {\"0\": \"T2\"},\n",
    "             \"labels\": {\"background\": 0,\n",
    "                        \"GTVp\": 1,\n",
    "                        \"GTVn\": 2},\n",
    "             \"numTraining\": n,\n",
    "             \"file_ending\": \".nii.gz\",\n",
    "             \"overwrite_image_reader_writer\": \"SimpleITKIO\"}"
   ],
   "metadata": {
    "collapsed": false,
    "pycharm": {
     "name": "#%%\n"
    }
   }
  },
  {
   "cell_type": "code",
   "execution_count": null,
   "outputs": [],
   "source": [
    "with open(f'{dst_dir}/dataset.json', 'w') as json_file:\n",
    "    json.dump(data_dict, json_file, indent = 4)"
   ],
   "metadata": {
    "collapsed": false,
    "pycharm": {
     "name": "#%%\n"
    }
   }
  },
  {
   "cell_type": "markdown",
   "source": [
    "# Splits file"
   ],
   "metadata": {
    "collapsed": false,
    "pycharm": {
     "name": "#%% md\n"
    }
   }
  },
  {
   "cell_type": "markdown",
   "source": [
    "#5 fold"
   ],
   "metadata": {
    "collapsed": false,
    "pycharm": {
     "name": "#%% md\n"
    }
   }
  },
  {
   "cell_type": "code",
   "execution_count": null,
   "outputs": [],
   "source": [
    "f0 = [f'HNTSMRG_{i:03d}' for i in range(n)]\n",
    "f0_pre = f0[:150]\n",
    "f0_mid = f0[150:]"
   ],
   "metadata": {
    "collapsed": false,
    "pycharm": {
     "name": "#%%\n"
    }
   }
  },
  {
   "cell_type": "code",
   "execution_count": null,
   "outputs": [],
   "source": [
    "nsplits = 5\n",
    "nsamples = len(f0_pre)\n",
    "split_size = int(nsamples/nsplits)"
   ],
   "metadata": {
    "collapsed": false,
    "pycharm": {
     "name": "#%%\n"
    }
   }
  },
  {
   "cell_type": "code",
   "execution_count": null,
   "outputs": [],
   "source": [
    "splits_pre = [f0_pre[i*split_size: (i+1)*split_size] for i in range(nsplits)]\n",
    "splits_mid = [f0_mid[i*split_size: (i+1)*split_size] for i in range(nsplits)]\n",
    "new_splits = []\n",
    "for i in range(nsplits):\n",
    "    val = splits_pre[i]\n",
    "    train_pre = [sample\n",
    "             for j, split in enumerate(splits_pre)\n",
    "             if j != i\n",
    "             for sample in split]\n",
    "    train_mid = [sample\n",
    "             for j, split in enumerate(splits_mid)\n",
    "             if j != i\n",
    "             for sample in split]\n",
    "\n",
    "    split_dict = {'train': train_pre + train_mid,\n",
    "                  'val': val}\n",
    "    new_splits.append(split_dict)"
   ],
   "metadata": {
    "collapsed": false,
    "pycharm": {
     "name": "#%%\n"
    }
   }
  },
  {
   "cell_type": "code",
   "execution_count": null,
   "outputs": [],
   "source": [
    "json_dir = f'json_splits/{dst_dir}/'\n",
    "os.makedirs(json_dir, exist_ok=True)"
   ],
   "metadata": {
    "collapsed": false,
    "pycharm": {
     "name": "#%%\n"
    }
   }
  },
  {
   "cell_type": "code",
   "execution_count": null,
   "outputs": [],
   "source": [
    "with open(f'{json_dir}/splits_final.json', 'w') as json_file:\n",
    "    json.dump(new_splits, json_file, indent = 4)"
   ],
   "metadata": {
    "collapsed": false,
    "pycharm": {
     "name": "#%%\n"
    }
   }
  },
  {
   "cell_type": "markdown",
   "source": [
    "# 15 fold"
   ],
   "metadata": {
    "collapsed": false,
    "pycharm": {
     "name": "#%% md\n"
    }
   }
  },
  {
   "cell_type": "code",
   "execution_count": null,
   "outputs": [],
   "source": [
    "f0 = [f'HNTSMRG_{i:03d}' for i in range(n)]\n",
    "f0_pre = f0[:150]\n",
    "f0_mid = f0[150:]"
   ],
   "metadata": {
    "collapsed": false,
    "pycharm": {
     "name": "#%%\n"
    }
   }
  },
  {
   "cell_type": "code",
   "execution_count": null,
   "outputs": [],
   "source": [
    "nsplits = 15\n",
    "nsamples = len(f0_pre)\n",
    "split_size = int(nsamples/nsplits)"
   ],
   "metadata": {
    "collapsed": false,
    "pycharm": {
     "name": "#%%\n"
    }
   }
  },
  {
   "cell_type": "code",
   "execution_count": null,
   "outputs": [],
   "source": [
    "splits_pre = [f0_pre[i*split_size: (i+1)*split_size] for i in range(nsplits)]\n",
    "splits_mid = [f0_mid[i*split_size: (i+1)*split_size] for i in range(nsplits)]\n",
    "new_splits = []\n",
    "for i in range(nsplits):\n",
    "    val = splits_pre[i]\n",
    "    train_pre = [sample\n",
    "             for j, split in enumerate(splits_pre)\n",
    "             if j != i\n",
    "             for sample in split]\n",
    "    train_mid = [sample\n",
    "             for j, split in enumerate(splits_mid)\n",
    "             if j != i\n",
    "             for sample in split]\n",
    "\n",
    "    split_dict = {'train': train_pre + train_mid,\n",
    "                  'val': val}\n",
    "    new_splits.append(split_dict)"
   ],
   "metadata": {
    "collapsed": false,
    "pycharm": {
     "name": "#%%\n"
    }
   }
  },
  {
   "cell_type": "code",
   "execution_count": null,
   "outputs": [],
   "source": [
    "dst_dirn = 'Dataset004_HNTSMRG'"
   ],
   "metadata": {
    "collapsed": false,
    "pycharm": {
     "name": "#%%\n"
    }
   }
  },
  {
   "cell_type": "code",
   "execution_count": null,
   "outputs": [],
   "source": [
    "json_dir = f'json_splits/{dst_dirn}/'\n",
    "os.makedirs(json_dir, exist_ok=True)"
   ],
   "metadata": {
    "collapsed": false,
    "pycharm": {
     "name": "#%%\n"
    }
   }
  },
  {
   "cell_type": "code",
   "execution_count": null,
   "outputs": [],
   "source": [
    "with open(f'{json_dir}/splits_final.json', 'w') as json_file:\n",
    "    json.dump(new_splits, json_file, indent = 4)"
   ],
   "metadata": {
    "collapsed": false,
    "pycharm": {
     "name": "#%%\n"
    }
   }
  },
  {
   "cell_type": "code",
   "execution_count": null,
   "outputs": [],
   "source": [
    "json_dir"
   ],
   "metadata": {
    "collapsed": false,
    "pycharm": {
     "name": "#%%\n"
    }
   }
  }
 ],
 "metadata": {
  "kernelspec": {
   "display_name": "Python 3",
   "language": "python",
   "name": "python3"
  },
  "language_info": {
   "codemirror_mode": {
    "name": "ipython",
    "version": 2
   },
   "file_extension": ".py",
   "mimetype": "text/x-python",
   "name": "python",
   "nbconvert_exporter": "python",
   "pygments_lexer": "ipython2",
   "version": "2.7.6"
  }
 },
 "nbformat": 4,
 "nbformat_minor": 0
}