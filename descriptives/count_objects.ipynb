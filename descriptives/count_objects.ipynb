{
 "cells": [
  {
   "cell_type": "code",
   "execution_count": null,
   "outputs": [],
   "source": [
    "from pathlib import Path\n",
    "\n",
    "import SimpleITK as sitk\n",
    "import numpy as np\n",
    "from skimage.measure import regionprops, label"
   ],
   "metadata": {
    "collapsed": false,
    "pycharm": {
     "name": "#%%\n"
    },
    "ExecuteTime": {
     "end_time": "2024-06-20T14:57:59.400943400Z",
     "start_time": "2024-06-20T14:57:59.085011100Z"
    }
   }
  },
  {
   "cell_type": "code",
   "execution_count": null,
   "outputs": [],
   "source": [
    "def get_path_and_patients(path):\n",
    "    \"\"\"Obtain path for data, with all patient (numbers) from the data directory\"\"\"\n",
    "\n",
    "    absolute_path = Path().absolute().parent\n",
    "    data_path = absolute_path / path\n",
    "    patients = [obs.name for obs in data_path.iterdir()]\n",
    "    return data_path, patients\n",
    "\n",
    "\n",
    "def get_array(nii_path):\n",
    "    \"\"\"Obtain numpy array data from .nii.gz file\"\"\"\n",
    "\n",
    "    nifti = sitk.ReadImage(nii_path)\n",
    "    array = sitk.GetArrayFromImage(nifti)\n",
    "    return array\n",
    "\n",
    "\n",
    "def get_image_and_mask(path, observation, task):\n",
    "    \"\"\"Obtain the 3D image and the corresponding mask\"\"\"\n",
    "\n",
    "    task_name = pre if task == 1 else mid\n",
    "    obs_path = path / observation / task_name\n",
    "    if task_name == pre:\n",
    "        image_path = str(list(obs_path.glob(\"*T2*\"))[0])\n",
    "        mask_path = str(list(obs_path.glob(\"*mask*\"))[0])\n",
    "    if task_name == mid:\n",
    "        image_path = str(list(obs_path.glob(\"*midRT_T2*\"))[0])\n",
    "        mask_path = str(list(obs_path.glob(\"*midRT_mask*\"))[0])\n",
    "    print(image_path)\n",
    "    print(mask_path)\n",
    "    img = get_array(image_path)\n",
    "    mask = get_array(mask_path)\n",
    "\n",
    "    return img, mask\n",
    "\n",
    "\n",
    "def get_objects(mask, label_num):\n",
    "    \"\"\"Obtain objects from label image from corresponding label number\"\"\"\n",
    "\n",
    "    label_img = label(mask == label_num)\n",
    "    regions = regionprops(label_img)\n",
    "    return regions\n",
    "\n",
    "\n",
    "def number_of_objects(mask, label_num):\n",
    "    \"\"\"Count the number of objects of corresponding label number\"\"\"\n",
    "\n",
    "    regions = get_objects(mask, label_num)\n",
    "    n_objects = len(regions)\n",
    "    return n_objects"
   ],
   "metadata": {
    "collapsed": false,
    "pycharm": {
     "name": "#%%\n"
    }
   }
  },
  {
   "cell_type": "code",
   "execution_count": null,
   "outputs": [],
   "source": [
    "pre = 'preRT'\n",
    "mid = 'midRT'"
   ],
   "metadata": {
    "collapsed": false,
    "pycharm": {
     "name": "#%%\n"
    }
   }
  },
  {
   "cell_type": "code",
   "execution_count": null,
   "outputs": [],
   "source": [
    "dir_path = r\"data\\HNTSMRG24_train\""
   ],
   "metadata": {
    "collapsed": false,
    "pycharm": {
     "name": "#%%\n"
    }
   }
  },
  {
   "cell_type": "markdown",
   "source": [
    "# TASK 1"
   ],
   "metadata": {
    "collapsed": false,
    "pycharm": {
     "name": "#%% md\n"
    }
   }
  },
  {
   "cell_type": "code",
   "outputs": [],
   "source": [
    "task = 1\n",
    "path, patients = get_path_and_patients(dir_path)\n",
    "len(patients)"
   ],
   "metadata": {
    "collapsed": false,
    "pycharm": {
     "name": "#%%\n"
    },
    "ExecuteTime": {
     "end_time": "2024-06-20T14:57:59.411059500Z",
     "start_time": "2024-06-20T14:57:59.399648500Z"
    }
   },
   "execution_count": null
  },
  {
   "cell_type": "code",
   "execution_count": null,
   "outputs": [],
   "source": [
    "GTVp_t1 = []\n",
    "GTVn_t1 = []\n",
    "for i, patient in enumerate(patients):\n",
    "    print(f'Patient: {patient} -- N{i:03d}')\n",
    "    img, mask = get_image_and_mask(path, patient, task)\n",
    "    GTVp_t1.append([region.area for region in get_objects(mask, 1)])\n",
    "    GTVn_t1.append([region.area for region in get_objects(mask, 2)])\n"
   ],
   "metadata": {
    "collapsed": false,
    "pycharm": {
     "name": "#%%\n"
    }
   }
  },
  {
   "cell_type": "markdown",
   "source": [
    "# Task 2"
   ],
   "metadata": {
    "collapsed": false,
    "pycharm": {
     "name": "#%% md\n"
    }
   }
  },
  {
   "cell_type": "code",
   "execution_count": null,
   "outputs": [],
   "source": [
    "path"
   ],
   "metadata": {
    "collapsed": false,
    "pycharm": {
     "name": "#%%\n"
    }
   }
  },
  {
   "cell_type": "code",
   "execution_count": null,
   "outputs": [],
   "source": [
    "task = 2\n",
    "path, patients = get_path_and_patients(dir_path)\n",
    "len(patients)"
   ],
   "metadata": {
    "collapsed": false,
    "pycharm": {
     "name": "#%%\n"
    }
   }
  },
  {
   "cell_type": "code",
   "execution_count": null,
   "outputs": [],
   "source": [
    "GTVp_t2 = []\n",
    "GTVn_t2 = []\n",
    "for i, patient in enumerate(patients):\n",
    "    print(f'Patient: {patient} -- N{i:03d}')\n",
    "    img, mask = get_image_and_mask(path, patient, task)\n",
    "    GTVp_t2.append([region.area for region in get_objects(mask, 1)])\n",
    "    GTVn_t2.append([region.area for region in get_objects(mask, 2)])\n"
   ],
   "metadata": {
    "collapsed": false,
    "pycharm": {
     "name": "#%%\n"
    }
   }
  },
  {
   "cell_type": "code",
   "execution_count": null,
   "outputs": [],
   "source": [
    "def count(GTVlist):\n",
    "    lens = [len(l) for l in GTVlist]\n",
    "    vlist = [v for l in GTVlist for v in l]\n",
    "    print(f'Mean voxels: {np.mean(vlist)}\\nNum volumes: {np.sum(lens)}\\nNum nonpresent: {lens.count(0)}')"
   ],
   "metadata": {
    "collapsed": false,
    "pycharm": {
     "name": "#%%\n"
    }
   }
  },
  {
   "cell_type": "code",
   "execution_count": null,
   "outputs": [],
   "source": [
    "count(GTVp_t1)"
   ],
   "metadata": {
    "collapsed": false,
    "pycharm": {
     "name": "#%%\n"
    }
   }
  },
  {
   "cell_type": "code",
   "execution_count": null,
   "outputs": [],
   "source": [
    "count(GTVp_t2)"
   ],
   "metadata": {
    "collapsed": false,
    "pycharm": {
     "name": "#%%\n"
    }
   }
  },
  {
   "cell_type": "code",
   "execution_count": null,
   "outputs": [],
   "source": [
    "count(GTVn_t1)"
   ],
   "metadata": {
    "collapsed": false,
    "pycharm": {
     "name": "#%%\n"
    }
   }
  },
  {
   "cell_type": "code",
   "execution_count": null,
   "outputs": [],
   "source": [
    "count(GTVn_t2)"
   ],
   "metadata": {
    "collapsed": false,
    "pycharm": {
     "name": "#%%\n"
    }
   }
  }
 ],
 "metadata": {
  "kernelspec": {
   "display_name": "Python 3",
   "language": "python",
   "name": "python3"
  },
  "language_info": {
   "codemirror_mode": {
    "name": "ipython",
    "version": 2
   },
   "file_extension": ".py",
   "mimetype": "text/x-python",
   "name": "python",
   "nbconvert_exporter": "python",
   "pygments_lexer": "ipython2",
   "version": "2.7.6"
  }
 },
 "nbformat": 4,
 "nbformat_minor": 0
}