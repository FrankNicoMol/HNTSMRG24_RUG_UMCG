{
 "cells": [
  {
   "cell_type": "code",
   "execution_count": null,
   "metadata": {
    "collapsed": true,
    "pycharm": {
     "name": "#%%\n"
    }
   },
   "outputs": [],
   "source": [
    "from pathlib import Path\n",
    "import json\n",
    "import pandas as pd\n",
    "import numpy as np\n",
    "import matplotlib.pyplot as plt\n",
    "\n",
    "\n",
    "def get_dice(rlist):\n",
    "    df = pd.DataFrame(rlist)\n",
    "    df1sum = df.sum(axis=0)\n",
    "\n",
    "    TP1 = df1sum[0]\n",
    "    FN1 = df1sum[1]\n",
    "    FP1 = df1sum[2]\n",
    "\n",
    "    D = (2 * TP1) / (2 * TP1 + FN1 + FP1)\n",
    "\n",
    "    return D\n",
    "\n",
    "\n",
    "def dice_agg(dataset):\n",
    "    p = Path(f'tmp/nnUNet/nnUNet_results/{dataset}')\n",
    "    train_configs = [pi for pi in p.glob('*')]\n",
    "    dices1 = []\n",
    "    dices2 = []\n",
    "    cols = []\n",
    "    for train_config in train_configs:\n",
    "        if '1ep' in str(train_config) or '10ep' in str(train_config):\n",
    "            continue\n",
    "\n",
    "        cdice1 = []\n",
    "        cdice2 = []\n",
    "        print(f'Calculating for:\\n {str(train_config)}')\n",
    "        cols.append(str(train_config).split('\\\\')[-1])\n",
    "\n",
    "        summary_path_list = [str(pi) for pi in train_config.glob('**/summary.json')]\n",
    "\n",
    "        c1 = []\n",
    "        c2 = []\n",
    "        for path in summary_path_list:\n",
    "\n",
    "            with open(path) as file:\n",
    "                summary = json.load(file)\n",
    "            c1_fold = []\n",
    "            c2_fold = []\n",
    "            sl = summary['metric_per_case']\n",
    "\n",
    "            for i in range(len(sl)):\n",
    "                tp1 = sl[i]['metrics']['1']['TP']\n",
    "                fn1 = sl[i]['metrics']['1']['FN']\n",
    "                fp1 = sl[i]['metrics']['1']['FP']\n",
    "\n",
    "                tp2 = sl[i]['metrics']['2']['TP']\n",
    "                fn2 = sl[i]['metrics']['2']['FN']\n",
    "                fp2 = sl[i]['metrics']['2']['FP']\n",
    "                case1 = [tp1, fn1, fp1]\n",
    "                case2 = [tp2, fn2, fp2]\n",
    "\n",
    "                c1_fold.append(case1)\n",
    "                c2_fold.append(case2)\n",
    "\n",
    "            c1 += c1_fold\n",
    "            c2 += c2_fold\n",
    "\n",
    "            dice1 = get_dice(c1_fold)\n",
    "            dice2 = get_dice(c2_fold)\n",
    "\n",
    "            cdice1.append(dice1)\n",
    "            cdice2.append(dice2)\n",
    "\n",
    "        dice1 = get_dice(c1)\n",
    "        dice2 = get_dice(c2)\n",
    "\n",
    "        # cdice1.append(dice1)\n",
    "        # cdice2.append(dice2)\n",
    "\n",
    "        dices1.append(cdice1)\n",
    "        dices2.append(cdice2)\n",
    "\n",
    "        print(f' D1: {dice1}\\n D2: {dice2}\\n mu: {np.mean([dice1, dice2])}')\n",
    "\n",
    "    df_d1 = pd.DataFrame(dices1).transpose()\n",
    "    df_d2 = pd.DataFrame(dices2).transpose()\n",
    "    df_d1.columns = cols\n",
    "    df_d2.columns = cols\n",
    "    return df_d1, df_d2"
   ]
  },
  {
   "cell_type": "code",
   "execution_count": null,
   "outputs": [],
   "source": [
    "dataset = 'Dataset101_HNTSMRG'\n",
    "df1, df2 = dice_agg(dataset)"
   ],
   "metadata": {
    "collapsed": false,
    "pycharm": {
     "name": "#%%\n"
    }
   }
  },
  {
   "cell_type": "code",
   "execution_count": null,
   "outputs": [],
   "source": [
    "dataset = 'Dataset102_HNTSMRG'\n",
    "df1, df2 = dice_agg(dataset)"
   ],
   "metadata": {
    "collapsed": false,
    "pycharm": {
     "name": "#%%\n"
    }
   }
  },
  {
   "cell_type": "code",
   "execution_count": null,
   "outputs": [],
   "source": [
    "s = 1.2\n",
    "names = [f'{i:02d}' for i in range(15)]\n",
    "fig, ax = plt.subplots(1, 2, figsize=(8 * s, 3 * s))\n",
    "\n",
    "legs = ['1000 epochs', '1250 epochs']\n",
    "colors = ['tab:green', 'tab:purple']\n",
    "\n",
    "df1.plot(y=['nnUNetTrainer__nnUNetPlans__3d_fullres', 'nnUNetTrainer_1250epochs__nnUNetPlans__3d_fullres'], kind='bar',\n",
    "         ax=ax[0], width=.8, color=colors, alpha=.8)\n",
    "ax[0].set_ylim(.25, 1)\n",
    "ax[0].set_xticks(list(range(15)), names, rotation=45)\n",
    "ax[0].legend(labels=legs, loc=\"upper left\", frameon=False)\n",
    "ax[0].set_ylabel(r\"$DSC_{agg}$\")\n",
    "ax[0].set_title(\"GTVp\")\n",
    "ax[0].set_xlabel(\"Fold\")\n",
    "ax[0].spines[['right', 'top']].set_visible(False)\n",
    "\n",
    "df2.plot(y=['nnUNetTrainer__nnUNetPlans__3d_fullres', 'nnUNetTrainer_1250epochs__nnUNetPlans__3d_fullres'], kind='bar',\n",
    "         ax=ax[1], width=.8, color=colors, alpha=.8)\n",
    "\n",
    "ax[1].set_ylim(.25, 1)\n",
    "ax[1].set_xticks(list(range(15)), names, rotation=45)\n",
    "#ax[1].legend(labels = legs, loc = \"lower left\")\n",
    "ax[1].get_legend().remove()\n",
    "ax[1].set_ylabel(r\"$DSC_{agg}$\")\n",
    "ax[1].set_title(\"GTVn\")\n",
    "ax[1].set_xlabel(\"Fold\")\n",
    "ax[1].spines[['right', 'top']].set_visible(False)\n",
    "\n",
    "plt.tight_layout()\n",
    "plt.savefig('epochs.svg')\n",
    "plt.show()"
   ],
   "metadata": {
    "collapsed": false,
    "pycharm": {
     "name": "#%%\n"
    }
   }
  },
  {
   "cell_type": "code",
   "execution_count": null,
   "outputs": [],
   "source": [
    "d1000 = np.array(df1['nnUNetTrainer__nnUNetPlans__3d_fullres'])\n",
    "d1250 = np.array(df1['nnUNetTrainer_1250epochs__nnUNetPlans__3d_fullres'])\n",
    "np.sum(d1250 > d1000)"
   ],
   "metadata": {
    "collapsed": false,
    "pycharm": {
     "name": "#%%\n"
    }
   }
  },
  {
   "cell_type": "code",
   "execution_count": null,
   "outputs": [],
   "source": [
    "d1000 = np.array(df2['nnUNetTrainer__nnUNetPlans__3d_fullres'])\n",
    "d1250 = np.array(df2['nnUNetTrainer_1250epochs__nnUNetPlans__3d_fullres'])\n",
    "np.sum(d1250 > d1000)"
   ],
   "metadata": {
    "collapsed": false,
    "pycharm": {
     "name": "#%%\n"
    }
   }
  },
  {
   "cell_type": "code",
   "execution_count": null,
   "outputs": [],
   "source": [
    "print(df1['nnUNetTrainer__nnUNetPlans__3d_fullres'])\n",
    "print(df1['nnUNetTrainer_1250epochs__nnUNetPlans__3d_fullres'])"
   ],
   "metadata": {
    "collapsed": false,
    "pycharm": {
     "name": "#%%\n"
    }
   }
  }
 ],
 "metadata": {
  "kernelspec": {
   "display_name": "Python 3",
   "language": "python",
   "name": "python3"
  },
  "language_info": {
   "codemirror_mode": {
    "name": "ipython",
    "version": 2
   },
   "file_extension": ".py",
   "mimetype": "text/x-python",
   "name": "python",
   "nbconvert_exporter": "python",
   "pygments_lexer": "ipython2",
   "version": "2.7.6"
  }
 },
 "nbformat": 4,
 "nbformat_minor": 0
}