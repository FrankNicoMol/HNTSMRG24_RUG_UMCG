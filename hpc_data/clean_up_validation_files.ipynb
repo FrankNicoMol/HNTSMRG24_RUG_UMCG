{
 "cells": [
  {
   "cell_type": "code",
   "execution_count": null,
   "metadata": {
    "collapsed": true,
    "pycharm": {
     "name": "#%%\n"
    }
   },
   "outputs": [],
   "source": [
    "from pathlib import Path\n",
    "import os"
   ]
  },
  {
   "cell_type": "code",
   "execution_count": null,
   "outputs": [],
   "source": [
    "p = Path('tmp/nnUNet/nnUNet_results/Dataset101_HNTSMRG')\n",
    "file_list = [str(file) for file in p.glob('**/*nii.gz')]\n",
    "for file in file_list:\n",
    "    os.remove(file)\n",
    "file_list = [str(file) for file in p.glob('**/*checkpoint_best.pth')]\n",
    "for file in file_list:\n",
    "    os.remove(file)"
   ],
   "metadata": {
    "collapsed": false,
    "pycharm": {
     "name": "#%%\n"
    }
   }
  }
 ],
 "metadata": {
  "kernelspec": {
   "display_name": "Python 3",
   "language": "python",
   "name": "python3"
  },
  "language_info": {
   "codemirror_mode": {
    "name": "ipython",
    "version": 2
   },
   "file_extension": ".py",
   "mimetype": "text/x-python",
   "name": "python",
   "nbconvert_exporter": "python",
   "pygments_lexer": "ipython2",
   "version": "2.7.6"
  }
 },
 "nbformat": 4,
 "nbformat_minor": 0
}