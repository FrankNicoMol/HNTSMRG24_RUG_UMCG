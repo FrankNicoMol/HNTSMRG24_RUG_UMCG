{
 "cells": [
  {
   "cell_type": "code",
   "execution_count": null,
   "metadata": {
    "collapsed": true,
    "pycharm": {
     "name": "#%%\n"
    }
   },
   "outputs": [],
   "source": [
    "import tarfile\n",
    "from pathlib import Path\n",
    "import pandas as pd"
   ]
  },
  {
   "cell_type": "code",
   "execution_count": null,
   "outputs": [],
   "source": [
    "file_name = 'results.tar.gz'\n",
    "job_list = [str(path / file_name) for path in Path('new_jobs').glob('*job*')]"
   ],
   "metadata": {
    "collapsed": false,
    "pycharm": {
     "name": "#%%\n"
    }
   }
  },
  {
   "cell_type": "code",
   "execution_count": null,
   "outputs": [],
   "source": [
    "files_written = []\n",
    "for job_path in job_list:\n",
    "    file = tarfile.open(job_path)\n",
    "    file.extractall('')\n",
    "    file.close()\n",
    "    files_written.append(job_path)"
   ],
   "metadata": {
    "collapsed": false,
    "pycharm": {
     "name": "#%%\n"
    }
   }
  },
  {
   "cell_type": "code",
   "execution_count": null,
   "outputs": [],
   "source": [
    "csv_name = 'untarred.csv'\n",
    "csv_path = Path(csv_name)\n",
    "if csv_path.is_file():\n",
    "    print('Adding files')\n",
    "    df_old = pd.read_csv(csv_name)\n",
    "    df_new = pd.DataFrame(files_written)\n",
    "    df_new.columns = df_old.columns\n",
    "    df = pd.concat([df_old, df_new])\n",
    "else:\n",
    "    print('Untarring for first time.')\n",
    "    df = pd.DataFrame(files_written)\n",
    "df.to_csv(csv_name, index=False)"
   ],
   "metadata": {
    "collapsed": false,
    "pycharm": {
     "name": "#%%\n"
    }
   }
  }
 ],
 "metadata": {
  "kernelspec": {
   "display_name": "Python 3",
   "language": "python",
   "name": "python3"
  },
  "language_info": {
   "codemirror_mode": {
    "name": "ipython",
    "version": 2
   },
   "file_extension": ".py",
   "mimetype": "text/x-python",
   "name": "python",
   "nbconvert_exporter": "python",
   "pygments_lexer": "ipython2",
   "version": "2.7.6"
  }
 },
 "nbformat": 4,
 "nbformat_minor": 0
}